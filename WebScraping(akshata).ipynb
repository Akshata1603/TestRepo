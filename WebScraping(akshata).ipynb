{
 "cells": [
  {
   "cell_type": "code",
   "execution_count": 1,
   "id": "dbc23ba4-4eef-4c50-aa62-5626590c8bd8",
   "metadata": {},
   "outputs": [],
   "source": [
    "from bs4 import BeautifulSoup # this module helps in web scrapping.\n",
    "import requests  # this module helps us to download a webpage"
   ]
  },
  {
   "cell_type": "code",
   "execution_count": 2,
   "id": "2000f16e-75df-4792-bc7f-d6c3627be037",
   "metadata": {},
   "outputs": [],
   "source": [
    "url = \"http://www.ibm.com\""
   ]
  },
  {
   "cell_type": "code",
   "execution_count": 3,
   "id": "ac5faf71-7463-4868-8fe3-0456fd68920c",
   "metadata": {},
   "outputs": [],
   "source": [
    "data = requests.get(url).text"
   ]
  },
  {
   "cell_type": "code",
   "execution_count": 4,
   "id": "7d93e2e6-a18e-466f-94f9-e1f39ededf5d",
   "metadata": {},
   "outputs": [],
   "source": [
    "soup = BeautifulSoup(data,\"html.parser\")"
   ]
  },
  {
   "cell_type": "code",
   "execution_count": 8,
   "id": "72cadd23-5306-45ca-9a09-6ad410330586",
   "metadata": {},
   "outputs": [
    {
     "name": "stdout",
     "output_type": "stream",
     "text": [
      "https://www.ibm.com/sports/wimbledon?lnk=hpls1uk\n",
      "https://www.ibm.com/sports/wimbledon?lnk=hpls1uk\n",
      "https://www.ibm.com/products/watsonx-orchestrate?lnk=hpls2in\n",
      "https://www.ibm.com/downloads/documents/us-en/10a99803cbafdc57\n",
      "https://www.ibm.com/in-en/campaign/ai-agents-incubation-workshop#urx\n",
      "https://www.ibm.com/store/en/in/products/EIDS2PRM\n",
      "https://www.ibm.com/case-studies/tcs?lnk=hpinrc2\n",
      "https://www.ibm.com/products/power?lnk=hpls4in\n",
      "https://www.ibm.com/granite?lnk=dev\n",
      "https://developer.ibm.com/technologies/artificial-intelligence?lnk=dev\n",
      "https://www.ibm.com/products/watsonx-code-assistant?lnk=dev\n",
      "https://www.ibm.com/products/instana?lnk=dev\n",
      "https://www.ibm.com/thought-leadership/institute-business-value/report/ceo-generative-ai?lnk=bus\n",
      "https://www.ibm.com/think/videos/ai-academy\n",
      "https://www.ibm.com/products/watsonx-orchestrate/ai-agent-for-hr?lnk=bus\n",
      "https://www.ibm.com/products/guardium-data-security-center?lnk=bus\n",
      "https://www.ibm.com/new/announcements/ibm-named-leader-in-2025-gartner-magic-quadrant-for-observability-platforms\n",
      "https://www.ibm.com/in-en/artificial-intelligence?lnk=ProdC\n",
      "https://www.ibm.com/hybrid-cloud?lnk=ProdC\n",
      "https://www.ibm.com/consulting?lnk=ProdC\n",
      "https://www.ibm.com/artificial-intelligence?lnk=ProdC\n",
      "https://www.ibm.com/granite?lnk=ProdC\n",
      "https://www.ibm.com/consulting?lnk=ProdC\n",
      "https://www.ibm.com/analytics?lnk=ProdC\n",
      "https://www.ibm.com/aiops?lnk=ProdC\n",
      "https://www.ibm.com/events/reg/flow/ibm/wlh63kmb/landing/page/landing?utm_source=ibmcomutm_id=ibmcom\n",
      "https://www.ibm.com/servers?lnk=ProdC\n",
      "https://www.ibm.com/database?lnk=ProdC\n",
      "https://www.ibm.com/security?lnk=ProdC\n",
      "https://www.ibm.com/in-en/about?lnk=inside\n",
      "https://www.ibm.com/history?lnk=inside\n",
      "https://research.ibm.com?lnk=inside\n",
      "https://www.ibm.com/quantum?lnk=inside\n",
      "https://www.ibm.com/in-en/careers?lnk=hpii1in\n",
      "https://skillsbuild.org?lnk=hpii1au\n"
     ]
    }
   ],
   "source": [
    "for link in soup.find_all('a'):\n",
    "    print(link.get('href'))"
   ]
  },
  {
   "cell_type": "code",
   "execution_count": 6,
   "id": "8311d269-ad28-4e89-bb7d-9112d320b61f",
   "metadata": {},
   "outputs": [],
   "source": [
    "URL = \"https://cf-courses-data.s3.us.cloud-object-storage.appdomain.cloud/IBM-DA0321EN-SkillsNetwork/labs/datasets/HTMLColorCodes.html\""
   ]
  },
  {
   "cell_type": "code",
   "execution_count": 7,
   "id": "5a869901-7ef1-4b40-a015-f7e60377453d",
   "metadata": {},
   "outputs": [],
   "source": [
    "data = requests.get(URL).text"
   ]
  },
  {
   "cell_type": "code",
   "execution_count": 9,
   "id": "a2f411e4-8918-4816-87bd-26e00def506e",
   "metadata": {},
   "outputs": [],
   "source": [
    "soup = BeautifulSoup(data,\"html.parser\")"
   ]
  },
  {
   "cell_type": "code",
   "execution_count": 10,
   "id": "585272e1-ed88-455e-afee-d6c714baadba",
   "metadata": {},
   "outputs": [],
   "source": [
    "table = soup.find('table')"
   ]
  },
  {
   "cell_type": "code",
   "execution_count": null,
   "id": "f37fbe76-e712-46ac-89a1-6aa34f096855",
   "metadata": {},
   "outputs": [],
   "source": [
    "for row in table.find_all('tr'): # in html table row is represented by the tag <tr>\n",
    "    # Get all columns in each row.\n",
    "    cols = row.find_all('td') # in html a column is represented by the tag <td>\n",
    "    color_name = cols[2].getText() # store the value in column 3 as color_name\n",
    "    color_code = cols[3].getText() # store the value in column 4 as color_code\n",
    "    print(\"{}--->{}\".format(color_name,color_code))"
   ]
  }
 ],
 "metadata": {
  "kernelspec": {
   "display_name": "Python [conda env:base] *",
   "language": "python",
   "name": "conda-base-py"
  },
  "language_info": {
   "codemirror_mode": {
    "name": "ipython",
    "version": 3
   },
   "file_extension": ".py",
   "mimetype": "text/x-python",
   "name": "python",
   "nbconvert_exporter": "python",
   "pygments_lexer": "ipython3",
   "version": "3.13.5"
  }
 },
 "nbformat": 4,
 "nbformat_minor": 5
}
